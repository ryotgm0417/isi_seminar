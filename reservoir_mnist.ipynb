{
 "cells": [
  {
   "cell_type": "code",
   "execution_count": 1,
   "metadata": {},
   "outputs": [],
   "source": [
    "import numpy as np\n",
    "import pandas as pd\n",
    "from scipy import linalg\n",
    "from sklearn.preprocessing import OneHotEncoder\n",
    "import matplotlib.pyplot as plt"
   ]
  },
  {
   "cell_type": "raw",
   "metadata": {},
   "source": [
    "# Read data from file\n",
    "data_pd = pd.read_csv('data/iris.data', sep=',', header=None)\n",
    "data_size = len(data_pd)\n",
    "\n",
    "data = data_pd.iloc[:,0:4].to_numpy()\n",
    "t = data_pd.iloc[:,4].to_numpy()       # 正解のカテゴリ\n",
    "\n",
    "t = OneHotEncoder(sparse=False).fit_transform(t.reshape(-1, 1)) # カテゴリをOne-Hot-Encodingする"
   ]
  },
  {
   "cell_type": "raw",
   "metadata": {},
   "source": [
    "RATIO_TRAIN = 0.8\n",
    "\n",
    "random_order_list = np.random.permutation(data_size) # データの順番をランダムにする\n",
    "num_train = int(data_size * RATIO_TRAIN)\n",
    "\n",
    "train_data = data[ random_order_list[:num_train] ] # 訓練データ\n",
    "train_target = t[ random_order_list[:num_train] ]\n",
    "\n",
    "test_data = data[ random_order_list[num_train:] ] # テストデータ\n",
    "test_target = t[ random_order_list[num_train:] ]"
   ]
  },
  {
   "cell_type": "code",
   "execution_count": 2,
   "metadata": {},
   "outputs": [
    {
     "name": "stderr",
     "output_type": "stream",
     "text": [
      "/home/mech-user/.local/lib/python3.6/site-packages/sklearn/preprocessing/_encoders.py:415: FutureWarning: The handling of integer data will change in version 0.22. Currently, the categories are determined based on the range [0, max(values)], while in the future they will be determined based on the unique values.\n",
      "If you want the future behaviour and silence this warning, you can specify \"categories='auto'\".\n",
      "In case you used a LabelEncoder before this OneHotEncoder to convert the categories to integers, then you can now use the OneHotEncoder directly.\n",
      "  warnings.warn(msg, FutureWarning)\n",
      "/home/mech-user/.local/lib/python3.6/site-packages/sklearn/preprocessing/_encoders.py:415: FutureWarning: The handling of integer data will change in version 0.22. Currently, the categories are determined based on the range [0, max(values)], while in the future they will be determined based on the unique values.\n",
      "If you want the future behaviour and silence this warning, you can specify \"categories='auto'\".\n",
      "In case you used a LabelEncoder before this OneHotEncoder to convert the categories to integers, then you can now use the OneHotEncoder directly.\n",
      "  warnings.warn(msg, FutureWarning)\n"
     ]
    }
   ],
   "source": [
    "# Read data from file\n",
    "train_df = pd.read_csv('data/mnist-in-csv/mnist_train.csv', sep=',')\n",
    "test_df = pd.read_csv('data/mnist-in-csv/mnist_test.csv', sep=',')\n",
    "\n",
    "train_size = len(train_df)\n",
    "test_size = len(test_df)\n",
    "\n",
    "train_data = train_df.iloc[:,1:].to_numpy()\n",
    "train_target = train_df.iloc[:,0].to_numpy()\n",
    "train_target = OneHotEncoder(sparse=False).fit_transform(train_target.reshape(-1, 1))\n",
    "\n",
    "test_data = test_df.iloc[:,1:].to_numpy()\n",
    "test_target = test_df.iloc[:,0].to_numpy()\n",
    "test_target = OneHotEncoder(sparse=False).fit_transform(test_target.reshape(-1, 1))"
   ]
  },
  {
   "cell_type": "code",
   "execution_count": 3,
   "metadata": {},
   "outputs": [],
   "source": [
    "train_data = train_data.reshape((-1,28))\n",
    "test_data = test_data.reshape((-1,28))"
   ]
  },
  {
   "cell_type": "code",
   "execution_count": 4,
   "metadata": {},
   "outputs": [
    {
     "data": {
      "text/plain": [
       "(1680000, 28)"
      ]
     },
     "execution_count": 4,
     "metadata": {},
     "output_type": "execute_result"
    }
   ],
   "source": [
    "train_data.shape"
   ]
  },
  {
   "cell_type": "code",
   "execution_count": 5,
   "metadata": {},
   "outputs": [
    {
     "data": {
      "text/plain": [
       "(280000, 28)"
      ]
     },
     "execution_count": 5,
     "metadata": {},
     "output_type": "execute_result"
    }
   ],
   "source": [
    "test_data.shape"
   ]
  },
  {
   "cell_type": "code",
   "execution_count": 6,
   "metadata": {},
   "outputs": [
    {
     "data": {
      "text/plain": [
       "(60000, 10)"
      ]
     },
     "execution_count": 6,
     "metadata": {},
     "output_type": "execute_result"
    }
   ],
   "source": [
    "train_target.shape"
   ]
  },
  {
   "cell_type": "code",
   "execution_count": 7,
   "metadata": {},
   "outputs": [
    {
     "data": {
      "text/plain": [
       "(10000, 10)"
      ]
     },
     "execution_count": 7,
     "metadata": {},
     "output_type": "execute_result"
    }
   ],
   "source": [
    "test_target.shape"
   ]
  },
  {
   "cell_type": "code",
   "execution_count": 8,
   "metadata": {},
   "outputs": [
    {
     "data": {
      "text/plain": [
       "28"
      ]
     },
     "execution_count": 8,
     "metadata": {},
     "output_type": "execute_result"
    }
   ],
   "source": [
    "len(train_data[0])"
   ]
  },
  {
   "cell_type": "code",
   "execution_count": 9,
   "metadata": {},
   "outputs": [],
   "source": [
    "train_target = [i for i in train_target for _ in range(len(train_data[0]))]\n",
    "test_target = [i for i in test_target for _ in range(len(test_data[0]))]"
   ]
  },
  {
   "cell_type": "code",
   "execution_count": 10,
   "metadata": {},
   "outputs": [],
   "source": [
    "LEAK_RATE=0.2\n",
    "SPECTRAL_RADIUS = 0.5\n",
    "#BIAS = 1.0\n",
    "\n",
    "NUM_INPUT_NODES = 28\n",
    "NUM_RESERVOIR_NODES = 300\n",
    "NUM_OUTPUT_NODES = 10\n",
    "\n",
    "# example of activator\n",
    "def ReLU(x):\n",
    "    return np.maximum(0, x)\n",
    "\n",
    "class ReservoirNetWork: # 入れるtrain_data, test_data, targetは全てnumpy配列\n",
    "\n",
    "    def __init__(self, num_input_nodes, num_reservoir_nodes, num_output_nodes, leak_rate=0.1, activator=np.tanh):\n",
    "        self.log_reservoir_nodes = np.array([np.zeros(num_reservoir_nodes)]) # reservoir層のノードの状態を記録\n",
    "\n",
    "        # init weights\n",
    "        self.weights_input = self._generate_input_weights(num_input_nodes, num_reservoir_nodes)\n",
    "        self.weights_reservoir = self._generate_reservoir_weights(num_reservoir_nodes)\n",
    "        self.weights_output = np.zeros([num_reservoir_nodes, num_output_nodes])\n",
    "\n",
    "        # それぞれの層のノードの数\n",
    "        self.num_input_nodes = num_input_nodes\n",
    "        self.num_reservoir_nodes = num_reservoir_nodes\n",
    "        self.num_output_nodes = num_output_nodes\n",
    "\n",
    "        self.leak_rate = leak_rate # 漏れ率\n",
    "        self.activator = activator # 活性化関数\n",
    "\n",
    "    # reservoir層のノードの次の状態を取得\n",
    "    def _get_next_reservoir_nodes(self, input, current_state):\n",
    "        next_state = (1 - self.leak_rate) * current_state\n",
    "        next_state += self.leak_rate * (input @ self.weights_input + current_state @ self.weights_reservoir)\n",
    "        return self.activator(next_state)\n",
    "\n",
    "    # 出力層の重みを更新\n",
    "    def _update_weights_output(self, target, lambda0):\n",
    "        # Ridge Regression\n",
    "        E_lambda0 = np.identity(self.num_reservoir_nodes) * lambda0\n",
    "        inv_x = np.linalg.inv(self.log_reservoir_nodes.T @ self.log_reservoir_nodes + E_lambda0)\n",
    "        # update weights of output layer\n",
    "        self.weights_output = (inv_x @ self.log_reservoir_nodes.T) @ target\n",
    "\n",
    "    # 学習する\n",
    "    def train(self, train_data, lambda0=0.1):\n",
    "        for i in range(len(train_data)):\n",
    "            tr = train_data[i]\n",
    "            \n",
    "            current_state = np.array(self.log_reservoir_nodes[-1])\n",
    "            self.log_reservoir_nodes = np.append(self.log_reservoir_nodes, [self._get_next_reservoir_nodes(tr, current_state)], axis=0)\n",
    "            \n",
    "            if i % 1000 == 0:\n",
    "                print('training data no. {}\\n'.format(i))\n",
    "                \n",
    "        self.log_reservoir_nodes = self.log_reservoir_nodes[1:]\n",
    "        # まとめて行列計算で重みを更新\n",
    "        self._update_weights_output(train_target, lambda0)\n",
    "        \n",
    "    # 予測する\n",
    "    def predict(self, test_data):\n",
    "        predicted_outputs = [np.zeros(3)] # ※1：np.appendをうまく使うためにテキトーな配列を用意、returnする時には除く\n",
    "        reservoir_nodes = self.log_reservoir_nodes[-1] # 訓練の結果得た最後の内部状態を取得\n",
    "        for te in test_data:\n",
    "            reservoir_nodes = self._get_next_reservoir_nodes(te, reservoir_nodes) # 内部状態更新\n",
    "            output = np.zeros(NUM_OUTPUT_NODES)\n",
    "            tmp = self.get_output(reservoir_nodes) # 内部状態を読み出して出力を得る\n",
    "            print(tmp)\n",
    "            output[ np.argmax(tmp) ] = 1 # 最も出力の値が大きいところが1、残りは0\n",
    "            predicted_outputs = np.append(predicted_outputs, [output], axis=0)\n",
    "        return predicted_outputs[1:] # 上の※1参照\n",
    "\n",
    "    # 内部状態から出力を計算\n",
    "    def get_output(self, reservoir_nodes):\n",
    "        return reservoir_nodes @ self.weights_output \n",
    "\n",
    "    #############################\n",
    "    ##### private method ########\n",
    "    #############################\n",
    "\n",
    "    # 重みを0.1か0か-0.1で初期化したものを返す\n",
    "    def _generate_input_weights(self, num_input_nodes, num_reservoir_nodes):\n",
    "        return np.random.choice([-0.1, 0, 0.1], num_input_nodes*num_reservoir_nodes, p=[0.1, 0.8, 0.1]).reshape(num_input_nodes, num_reservoir_nodes)\n",
    "\n",
    "    # Reservoir層の重みを初期化\n",
    "    def _generate_reservoir_weights(self, num_nodes):\n",
    "        weights = np.random.normal(0, 1, num_nodes * num_nodes)\n",
    "        indices = np.random.choice(np.arange(len(weights)), replace=False, size=int(len(weights) * 0.9))\n",
    "        weights[indices] = 0\n",
    "        weights = weights.reshape([num_nodes, num_nodes])\n",
    "        spectral_radius = max(abs(linalg.eigvals(weights)))\n",
    "        return weights / spectral_radius * SPECTRAL_RADIUS\n"
   ]
  },
  {
   "cell_type": "code",
   "execution_count": null,
   "metadata": {},
   "outputs": [
    {
     "name": "stdout",
     "output_type": "stream",
     "text": [
      "training data no. 0\n",
      "\n",
      "training data no. 1000\n",
      "\n",
      "training data no. 2000\n",
      "\n",
      "training data no. 3000\n",
      "\n",
      "training data no. 4000\n",
      "\n",
      "training data no. 5000\n",
      "\n",
      "training data no. 6000\n",
      "\n",
      "training data no. 7000\n",
      "\n",
      "training data no. 8000\n",
      "\n",
      "training data no. 9000\n",
      "\n",
      "training data no. 10000\n",
      "\n",
      "training data no. 11000\n",
      "\n",
      "training data no. 12000\n",
      "\n",
      "training data no. 13000\n",
      "\n",
      "training data no. 14000\n",
      "\n",
      "training data no. 15000\n",
      "\n",
      "training data no. 16000\n",
      "\n",
      "training data no. 17000\n",
      "\n",
      "training data no. 18000\n",
      "\n",
      "training data no. 19000\n",
      "\n",
      "training data no. 20000\n",
      "\n",
      "training data no. 21000\n",
      "\n",
      "training data no. 22000\n",
      "\n",
      "training data no. 23000\n",
      "\n",
      "training data no. 24000\n",
      "\n",
      "training data no. 25000\n",
      "\n",
      "training data no. 26000\n",
      "\n",
      "training data no. 27000\n",
      "\n",
      "training data no. 28000\n",
      "\n"
     ]
    }
   ],
   "source": [
    "model = ReservoirNetWork(num_input_nodes=NUM_INPUT_NODES,\n",
    "    num_reservoir_nodes=NUM_RESERVOIR_NODES,\n",
    "    num_output_nodes=NUM_OUTPUT_NODES,\n",
    "    leak_rate=LEAK_RATE)\n",
    "\n",
    "model.train(train_data) # 訓練\n",
    "\n",
    "predict_result = model.predict(test_data)\n",
    "\n"
   ]
  },
  {
   "cell_type": "code",
   "execution_count": null,
   "metadata": {},
   "outputs": [],
   "source": [
    "predict_result"
   ]
  },
  {
   "cell_type": "code",
   "execution_count": null,
   "metadata": {},
   "outputs": [],
   "source": [
    "test_target"
   ]
  },
  {
   "cell_type": "code",
   "execution_count": null,
   "metadata": {},
   "outputs": [],
   "source": []
  }
 ],
 "metadata": {
  "kernelspec": {
   "display_name": "Python 3",
   "language": "python",
   "name": "python3"
  },
  "language_info": {
   "codemirror_mode": {
    "name": "ipython",
    "version": 3
   },
   "file_extension": ".py",
   "mimetype": "text/x-python",
   "name": "python",
   "nbconvert_exporter": "python",
   "pygments_lexer": "ipython3",
   "version": "3.6.8"
  }
 },
 "nbformat": 4,
 "nbformat_minor": 2
}
